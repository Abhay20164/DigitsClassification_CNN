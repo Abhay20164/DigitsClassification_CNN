{
 "cells": [
  {
   "cell_type": "code",
   "execution_count": 1,
   "id": "3683ad3c",
   "metadata": {
    "execution": {
     "iopub.execute_input": "2024-01-03T06:33:29.668879Z",
     "iopub.status.busy": "2024-01-03T06:33:29.668428Z",
     "iopub.status.idle": "2024-01-03T06:33:45.419753Z",
     "shell.execute_reply": "2024-01-03T06:33:45.418284Z"
    },
    "papermill": {
     "duration": 15.766953,
     "end_time": "2024-01-03T06:33:45.422887",
     "exception": false,
     "start_time": "2024-01-03T06:33:29.655934",
     "status": "completed"
    },
    "tags": []
   },
   "outputs": [],
   "source": [
    "import tensorflow as tf\n",
    "from tensorflow import keras\n",
    "import numpy as np\n",
    "import matplotlib.pyplot as plt"
   ]
  },
  {
   "cell_type": "code",
   "execution_count": 2,
   "id": "4ac84d37",
   "metadata": {
    "execution": {
     "iopub.execute_input": "2024-01-03T06:33:45.446091Z",
     "iopub.status.busy": "2024-01-03T06:33:45.445320Z",
     "iopub.status.idle": "2024-01-03T06:33:47.390839Z",
     "shell.execute_reply": "2024-01-03T06:33:47.389824Z"
    },
    "papermill": {
     "duration": 1.960226,
     "end_time": "2024-01-03T06:33:47.393688",
     "exception": false,
     "start_time": "2024-01-03T06:33:45.433462",
     "status": "completed"
    },
    "tags": []
   },
   "outputs": [
    {
     "name": "stdout",
     "output_type": "stream",
     "text": [
      "Downloading data from https://storage.googleapis.com/tensorflow/tf-keras-datasets/mnist.npz\n",
      "11490434/11490434 [==============================] - 1s 0us/step\n"
     ]
    }
   ],
   "source": [
    "(X_train, y_train) , (X_test, y_test) = keras.datasets.mnist.load_data()"
   ]
  },
  {
   "cell_type": "code",
   "execution_count": 3,
   "id": "51905747",
   "metadata": {
    "execution": {
     "iopub.execute_input": "2024-01-03T06:33:47.419342Z",
     "iopub.status.busy": "2024-01-03T06:33:47.418936Z",
     "iopub.status.idle": "2024-01-03T06:33:47.426524Z",
     "shell.execute_reply": "2024-01-03T06:33:47.425708Z"
    },
    "papermill": {
     "duration": 0.022942,
     "end_time": "2024-01-03T06:33:47.428732",
     "exception": false,
     "start_time": "2024-01-03T06:33:47.405790",
     "status": "completed"
    },
    "tags": []
   },
   "outputs": [
    {
     "data": {
      "text/plain": [
       "(60000, 28, 28)"
      ]
     },
     "execution_count": 3,
     "metadata": {},
     "output_type": "execute_result"
    }
   ],
   "source": [
    "X_train.shape"
   ]
  },
  {
   "cell_type": "code",
   "execution_count": 4,
   "id": "d9a8fc95",
   "metadata": {
    "execution": {
     "iopub.execute_input": "2024-01-03T06:33:47.455453Z",
     "iopub.status.busy": "2024-01-03T06:33:47.455042Z",
     "iopub.status.idle": "2024-01-03T06:33:47.462319Z",
     "shell.execute_reply": "2024-01-03T06:33:47.461169Z"
    },
    "papermill": {
     "duration": 0.024066,
     "end_time": "2024-01-03T06:33:47.464979",
     "exception": false,
     "start_time": "2024-01-03T06:33:47.440913",
     "status": "completed"
    },
    "tags": []
   },
   "outputs": [
    {
     "data": {
      "text/plain": [
       "(10000, 28, 28)"
      ]
     },
     "execution_count": 4,
     "metadata": {},
     "output_type": "execute_result"
    }
   ],
   "source": [
    "X_test.shape"
   ]
  },
  {
   "cell_type": "code",
   "execution_count": 5,
   "id": "0d3c7487",
   "metadata": {
    "execution": {
     "iopub.execute_input": "2024-01-03T06:33:47.491565Z",
     "iopub.status.busy": "2024-01-03T06:33:47.491164Z",
     "iopub.status.idle": "2024-01-03T06:33:47.823280Z",
     "shell.execute_reply": "2024-01-03T06:33:47.821870Z"
    },
    "papermill": {
     "duration": 0.348639,
     "end_time": "2024-01-03T06:33:47.825936",
     "exception": false,
     "start_time": "2024-01-03T06:33:47.477297",
     "status": "completed"
    },
    "tags": []
   },
   "outputs": [
    {
     "data": {
      "text/plain": [
       "<matplotlib.image.AxesImage at 0x7bea18dce620>"
      ]
     },
     "execution_count": 5,
     "metadata": {},
     "output_type": "execute_result"
    },
    {
     "data": {
      "image/png": "[encoded data removed]",
      "text/plain": [
       "<Figure size 640x480 with 1 Axes>"
      ]
     },
     "metadata": {},
     "output_type": "display_data"
    }
   ],
   "source": [
    "plt.imshow(X_train[0])"
   ]
  },
  {
   "cell_type": "code",
   "execution_count": 6,
   "id": "1c4e9c23",
   "metadata": {
    "execution": {
     "iopub.execute_input": "2024-01-03T06:33:47.853229Z",
     "iopub.status.busy": "2024-01-03T06:33:47.852768Z",
     "iopub.status.idle": "2024-01-03T06:33:47.860493Z",
     "shell.execute_reply": "2024-01-03T06:33:47.859312Z"
    },
    "papermill": {
     "duration": 0.024265,
     "end_time": "2024-01-03T06:33:47.862909",
     "exception": false,
     "start_time": "2024-01-03T06:33:47.838644",
     "status": "completed"
    },
    "tags": []
   },
   "outputs": [
    {
     "data": {
      "text/plain": [
       "5"
      ]
     },
     "execution_count": 6,
     "metadata": {},
     "output_type": "execute_result"
    }
   ],
   "source": [
    "y_train[0]"
   ]
  },
  {
   "cell_type": "code",
   "execution_count": 7,
   "id": "00716b2a",
   "metadata": {
    "execution": {
     "iopub.execute_input": "2024-01-03T06:33:47.891106Z",
     "iopub.status.busy": "2024-01-03T06:33:47.889986Z",
     "iopub.status.idle": "2024-01-03T06:33:47.901766Z",
     "shell.execute_reply": "2024-01-03T06:33:47.900622Z"
    },
    "papermill": {
     "duration": 0.028711,
     "end_time": "2024-01-03T06:33:47.904480",
     "exception": false,
     "start_time": "2024-01-03T06:33:47.875769",
     "status": "completed"
    },
    "tags": []
   },
   "outputs": [
    {
     "data": {
      "text/plain": [
       "array([[  0,   0,   0,   0,   0,   0,   0,   0,   0,   0,   0,   0,   0,\n",
       "          0,   0,   0,   0,   0,   0,   0,   0,   0,   0,   0,   0,   0,\n",
       "          0,   0],\n",
       "       [  0,   0,   0,   0,   0,   0,   0,   0,   0,   0,   0,   0,   0,\n",
       "          0,   0,   0,   0,   0,   0,   0,   0,   0,   0,   0,   0,   0,\n",
       "          0,   0],\n",
       "       [  0,   0,   0,   0,   0,   0,   0,   0,   0,   0,   0,   0,   0,\n",
       "          0,   0,   0,   0,   0,   0,   0,   0,   0,   0,   0,   0,   0,\n",
       "          0,   0],\n",
       "       [  0,   0,   0,   0,   0,   0,   0,   0,   0,   0,   0,   0,   0,\n",
       "          0,   0,   0,   0,   0,   0,   0,   0,   0,   0,   0,   0,   0,\n",
       "          0,   0],\n",
       "       [  0,   0,   0,   0,   0,   0,   0,   0,   0,   0,   0,   0,   0,\n",
       "          0,   0,   0,   0,   0,   0,   0,   0,   0,   0,   0,   0,   0,\n",
       "          0,   0],\n",
       "       [  0,   0,   0,   0,   0,   0,   0,   0,   0,   0,   0,   0,   3,\n",
       "         18,  18,  18, 126, 136, 175,  26, 166, 255, 247, 127,   0,   0,\n",
       "          0,   0],\n",
       "       [  0,   0,   0,   0,   0,   0,   0,   0,  30,  36,  94, 154, 170,\n",
       "        253, 253, 253, 253, 253, 225, 172, 253, 242, 195,  64,   0,   0,\n",
       "          0,   0],\n",
       "       [  0,   0,   0,   0,   0,   0,   0,  49, 238, 253, 253, 253, 253,\n",
       "        253, 253, 253, 253, 251,  93,  82,  82,  56,  39,   0,   0,   0,\n",
       "          0,   0],\n",
       "       [  0,   0,   0,   0,   0,   0,   0,  18, 219, 253, 253, 253, 253,\n",
       "        253, 198, 182, 247, 241,   0,   0,   0,   0,   0,   0,   0,   0,\n",
       "          0,   0],\n",
       "       [  0,   0,   0,   0,   0,   0,   0,   0,  80, 156, 107, 253, 253,\n",
       "        205,  11,   0,  43, 154,   0,   0,   0,   0,   0,   0,   0,   0,\n",
       "          0,   0],\n",
       "       [  0,   0,   0,   0,   0,   0,   0,   0,   0,  14,   1, 154, 253,\n",
       "         90,   0,   0,   0,   0,   0,   0,   0,   0,   0,   0,   0,   0,\n",
       "          0,   0],\n",
       "       [  0,   0,   0,   0,   0,   0,   0,   0,   0,   0,   0, 139, 253,\n",
       "        190,   2,   0,   0,   0,   0,   0,   0,   0,   0,   0,   0,   0,\n",
       "          0,   0],\n",
       "       [  0,   0,   0,   0,   0,   0,   0,   0,   0,   0,   0,  11, 190,\n",
       "        253,  70,   0,   0,   0,   0,   0,   0,   0,   0,   0,   0,   0,\n",
       "          0,   0],\n",
       "       [  0,   0,   0,   0,   0,   0,   0,   0,   0,   0,   0,   0,  35,\n",
       "        241, 225, 160, 108,   1,   0,   0,   0,   0,   0,   0,   0,   0,\n",
       "          0,   0],\n",
       "       [  0,   0,   0,   0,   0,   0,   0,   0,   0,   0,   0,   0,   0,\n",
       "         81, 240, 253, 253, 119,  25,   0,   0,   0,   0,   0,   0,   0,\n",
       "          0,   0],\n",
       "       [  0,   0,   0,   0,   0,   0,   0,   0,   0,   0,   0,   0,   0,\n",
       "          0,  45, 186, 253, 253, 150,  27,   0,   0,   0,   0,   0,   0,\n",
       "          0,   0],\n",
       "       [  0,   0,   0,   0,   0,   0,   0,   0,   0,   0,   0,   0,   0,\n",
       "          0,   0,  16,  93, 252, 253, 187,   0,   0,   0,   0,   0,   0,\n",
       "          0,   0],\n",
       "       [  0,   0,   0,   0,   0,   0,   0,   0,   0,   0,   0,   0,   0,\n",
       "          0,   0,   0,   0, 249, 253, 249,  64,   0,   0,   0,   0,   0,\n",
       "          0,   0],\n",
       "       [  0,   0,   0,   0,   0,   0,   0,   0,   0,   0,   0,   0,   0,\n",
       "          0,  46, 130, 183, 253, 253, 207,   2,   0,   0,   0,   0,   0,\n",
       "          0,   0],\n",
       "       [  0,   0,   0,   0,   0,   0,   0,   0,   0,   0,   0,   0,  39,\n",
       "        148, 229, 253, 253, 253, 250, 182,   0,   0,   0,   0,   0,   0,\n",
       "          0,   0],\n",
       "       [  0,   0,   0,   0,   0,   0,   0,   0,   0,   0,  24, 114, 221,\n",
       "        253, 253, 253, 253, 201,  78,   0,   0,   0,   0,   0,   0,   0,\n",
       "          0,   0],\n",
       "       [  0,   0,   0,   0,   0,   0,   0,   0,  23,  66, 213, 253, 253,\n",
       "        253, 253, 198,  81,   2,   0,   0,   0,   0,   0,   0,   0,   0,\n",
       "          0,   0],\n",
       "       [  0,   0,   0,   0,   0,   0,  18, 171, 219, 253, 253, 253, 253,\n",
       "        195,  80,   9,   0,   0,   0,   0,   0,   0,   0,   0,   0,   0,\n",
       "          0,   0],\n",
       "       [  0,   0,   0,   0,  55, 172, 226, 253, 253, 253, 253, 244, 133,\n",
       "         11,   0,   0,   0,   0,   0,   0,   0,   0,   0,   0,   0,   0,\n",
       "          0,   0],\n",
       "       [  0,   0,   0,   0, 136, 253, 253, 253, 212, 135, 132,  16,   0,\n",
       "          0,   0,   0,   0,   0,   0,   0,   0,   0,   0,   0,   0,   0,\n",
       "          0,   0],\n",
       "       [  0,   0,   0,   0,   0,   0,   0,   0,   0,   0,   0,   0,   0,\n",
       "          0,   0,   0,   0,   0,   0,   0,   0,   0,   0,   0,   0,   0,\n",
       "          0,   0],\n",
       "       [  0,   0,   0,   0,   0,   0,   0,   0,   0,   0,   0,   0,   0,\n",
       "          0,   0,   0,   0,   0,   0,   0,   0,   0,   0,   0,   0,   0,\n",
       "          0,   0],\n",
       "       [  0,   0,   0,   0,   0,   0,   0,   0,   0,   0,   0,   0,   0,\n",
       "          0,   0,   0,   0,   0,   0,   0,   0,   0,   0,   0,   0,   0,\n",
       "          0,   0]], dtype=uint8)"
      ]
     },
     "execution_count": 7,
     "metadata": {},
     "output_type": "execute_result"
    }
   ],
   "source": [
    "X_train[0]"
   ]
  },
  {
   "cell_type": "markdown",
   "id": "415e424b",
   "metadata": {
    "papermill": {
     "duration": 0.012821,
     "end_time": "2024-01-03T06:33:47.930597",
     "exception": false,
     "start_time": "2024-01-03T06:33:47.917776",
     "status": "completed"
    },
    "tags": []
   },
   "source": [
    "we need to standardize these xtrain and xtest"
   ]
  },
  {
   "cell_type": "code",
   "execution_count": 8,
   "id": "a14e0b9c",
   "metadata": {
    "execution": {
     "iopub.execute_input": "2024-01-03T06:33:47.958617Z",
     "iopub.status.busy": "2024-01-03T06:33:47.958213Z",
     "iopub.status.idle": "2024-01-03T06:33:48.143129Z",
     "shell.execute_reply": "2024-01-03T06:33:48.141896Z"
    },
    "papermill": {
     "duration": 0.202289,
     "end_time": "2024-01-03T06:33:48.146053",
     "exception": false,
     "start_time": "2024-01-03T06:33:47.943764",
     "status": "completed"
    },
    "tags": []
   },
   "outputs": [],
   "source": [
    "X_trainscaled=X_train/255\n",
    "X_testscaled=X_test/255"
   ]
  },
  {
   "cell_type": "code",
   "execution_count": 9,
   "id": "b80bf2f4",
   "metadata": {
    "execution": {
     "iopub.execute_input": "2024-01-03T06:33:48.175193Z",
     "iopub.status.busy": "2024-01-03T06:33:48.174773Z",
     "iopub.status.idle": "2024-01-03T06:33:48.191157Z",
     "shell.execute_reply": "2024-01-03T06:33:48.189920Z"
    },
    "papermill": {
     "duration": 0.034699,
     "end_time": "2024-01-03T06:33:48.194675",
     "exception": false,
     "start_time": "2024-01-03T06:33:48.159976",
     "status": "completed"
    },
    "tags": []
   },
   "outputs": [
    {
     "data": {
      "text/plain": [
       "array([[0.        , 0.        , 0.        , 0.        , 0.        ,\n",
       "        0.        , 0.        , 0.        , 0.        , 0.        ,\n",
       "        0.        , 0.        , 0.        , 0.        , 0.        ,\n",
       "        0.        , 0.        , 0.        , 0.        , 0.        ,\n",
       "        0.        , 0.        , 0.        , 0.        , 0.        ,\n",
       "        0.        , 0.        , 0.        ],\n",
       "       [0.        , 0.        , 0.        , 0.        , 0.        ,\n",
       "        0.        , 0.        , 0.        , 0.        , 0.        ,\n",
       "        0.        , 0.        , 0.        , 0.        , 0.        ,\n",
       "        0.        , 0.        , 0.        , 0.        , 0.        ,\n",
       "        0.        , 0.        , 0.        , 0.        , 0.        ,\n",
       "        0.        , 0.        , 0.        ],\n",
       "       [0.        , 0.        , 0.        , 0.        , 0.        ,\n",
       "        0.        , 0.        , 0.        , 0.        , 0.        ,\n",
       "        0.        , 0.        , 0.        , 0.        , 0.        ,\n",
       "        0.        , 0.        , 0.        , 0.        , 0.        ,\n",
       "        0.        , 0.        , 0.        , 0.        , 0.        ,\n",
       "        0.        , 0.        , 0.        ],\n",
       "       [0.        , 0.        , 0.        , 0.        , 0.        ,\n",
       "        0.        , 0.        , 0.        , 0.        , 0.        ,\n",
       "        0.        , 0.        , 0.        , 0.        , 0.        ,\n",
       "        0.        , 0.        , 0.        , 0.        , 0.        ,\n",
       "        0.        , 0.        , 0.        , 0.        , 0.        ,\n",
       "        0.        , 0.        , 0.        ],\n",
       "       [0.        , 0.        , 0.        , 0.        , 0.        ,\n",
       "        0.        , 0.        , 0.        , 0.        , 0.        ,\n",
       "        0.        , 0.        , 0.        , 0.        , 0.        ,\n",
       "        0.        , 0.        , 0.        , 0.        , 0.        ,\n",
       "        0.        , 0.        , 0.        , 0.        , 0.        ,\n",
       "        0.        , 0.        , 0.        ],\n",
       "       [0.        , 0.        , 0.        , 0.        , 0.        ,\n",
       "        0.        , 0.        , 0.        , 0.        , 0.        ,\n",
       "        0.        , 0.        , 0.01176471, 0.07058824, 0.07058824,\n",
       "        0.07058824, 0.49411765, 0.53333333, 0.68627451, 0.10196078,\n",
       "        0.65098039, 1.        , 0.96862745, 0.49803922, 0.        ,\n",
       "        0.        , 0.        , 0.        ],\n",
       "       [0.        , 0.        , 0.        , 0.        , 0.        ,\n",
       "        0.        , 0.        , 0.        , 0.11764706, 0.14117647,\n",
       "        0.36862745, 0.60392157, 0.66666667, 0.99215686, 0.99215686,\n",
       "        0.99215686, 0.99215686, 0.99215686, 0.88235294, 0.6745098 ,\n",
       "        0.99215686, 0.94901961, 0.76470588, 0.25098039, 0.        ,\n",
       "        0.        , 0.        , 0.        ],\n",
       "       [0.        , 0.        , 0.        , 0.        , 0.        ,\n",
       "        0.        , 0.        , 0.19215686, 0.93333333, 0.99215686,\n",
       "        0.99215686, 0.99215686, 0.99215686, 0.99215686, 0.99215686,\n",
       "        0.99215686, 0.99215686, 0.98431373, 0.36470588, 0.32156863,\n",
       "        0.32156863, 0.21960784, 0.15294118, 0.        , 0.        ,\n",
       "        0.        , 0.        , 0.        ],\n",
       "       [0.        , 0.        , 0.        , 0.        , 0.        ,\n",
       "        0.        , 0.        , 0.07058824, 0.85882353, 0.99215686,\n",
       "        0.99215686, 0.99215686, 0.99215686, 0.99215686, 0.77647059,\n",
       "        0.71372549, 0.96862745, 0.94509804, 0.        , 0.        ,\n",
       "        0.        , 0.        , 0.        , 0.        , 0.        ,\n",
       "        0.        , 0.        , 0.        ],\n",
       "       [0.        , 0.        , 0.        , 0.        , 0.        ,\n",
       "        0.        , 0.        , 0.        , 0.31372549, 0.61176471,\n",
       "        0.41960784, 0.99215686, 0.99215686, 0.80392157, 0.04313725,\n",
       "        0.        , 0.16862745, 0.60392157, 0.        , 0.        ,\n",
       "        0.        , 0.        , 0.        , 0.        , 0.        ,\n",
       "        0.        , 0.        , 0.        ],\n",
       "       [0.        , 0.        , 0.        , 0.        , 0.        ,\n",
       "        0.        , 0.        , 0.        , 0.        , 0.05490196,\n",
       "        0.00392157, 0.60392157, 0.99215686, 0.35294118, 0.        ,\n",
       "        0.        , 0.        , 0.        , 0.        , 0.        ,\n",
       "        0.        , 0.        , 0.        , 0.        , 0.        ,\n",
       "        0.        , 0.        , 0.        ],\n",
       "       [0.        , 0.        , 0.        , 0.        , 0.        ,\n",
       "        0.        , 0.        , 0.        , 0.        , 0.        ,\n",
       "        0.        , 0.54509804, 0.99215686, 0.74509804, 0.00784314,\n",
       "        0.        , 0.        , 0.        , 0.        , 0.        ,\n",
       "        0.        , 0.        , 0.        , 0.        , 0.        ,\n",
       "        0.        , 0.        , 0.        ],\n",
       "       [0.        , 0.        , 0.        , 0.        , 0.        ,\n",
       "        0.        , 0.        , 0.        , 0.        , 0.        ,\n",
       "        0.        , 0.04313725, 0.74509804, 0.99215686, 0.2745098 ,\n",
       "        0.        , 0.        , 0.        , 0.        , 0.        ,\n",
       "        0.        , 0.        , 0.        , 0.        , 0.        ,\n",
       "        0.        , 0.        , 0.        ],\n",
       "       [0.        , 0.        , 0.        , 0.        , 0.        ,\n",
       "        0.        , 0.        , 0.        , 0.        , 0.        ,\n",
       "        0.        , 0.        , 0.1372549 , 0.94509804, 0.88235294,\n",
       "        0.62745098, 0.42352941, 0.00392157, 0.        , 0.        ,\n",
       "        0.        , 0.        , 0.        , 0.        , 0.        ,\n",
       "        0.        , 0.        , 0.        ],\n",
       "       [0.        , 0.        , 0.        , 0.        , 0.        ,\n",
       "        0.        , 0.        , 0.        , 0.        , 0.        ,\n",
       "        0.        , 0.        , 0.        , 0.31764706, 0.94117647,\n",
       "        0.99215686, 0.99215686, 0.46666667, 0.09803922, 0.        ,\n",
       "        0.        , 0.        , 0.        , 0.        , 0.        ,\n",
       "        0.        , 0.        , 0.        ],\n",
       "       [0.        , 0.        , 0.        , 0.        , 0.        ,\n",
       "        0.        , 0.        , 0.        , 0.        , 0.        ,\n",
       "        0.        , 0.        , 0.        , 0.        , 0.17647059,\n",
       "        0.72941176, 0.99215686, 0.99215686, 0.58823529, 0.10588235,\n",
       "        0.        , 0.        , 0.        , 0.        , 0.        ,\n",
       "        0.        , 0.        , 0.        ],\n",
       "       [0.        , 0.        , 0.        , 0.        , 0.        ,\n",
       "        0.        , 0.        , 0.        , 0.        , 0.        ,\n",
       "        0.        , 0.        , 0.        , 0.        , 0.        ,\n",
       "        0.0627451 , 0.36470588, 0.98823529, 0.99215686, 0.73333333,\n",
       "        0.        , 0.        , 0.        , 0.        , 0.        ,\n",
       "        0.        , 0.        , 0.        ],\n",
       "       [0.        , 0.        , 0.        , 0.        , 0.        ,\n",
       "        0.        , 0.        , 0.        , 0.        , 0.        ,\n",
       "        0.        , 0.        , 0.        , 0.        , 0.        ,\n",
       "        0.        , 0.        , 0.97647059, 0.99215686, 0.97647059,\n",
       "        0.25098039, 0.        , 0.        , 0.        , 0.        ,\n",
       "        0.        , 0.        , 0.        ],\n",
       "       [0.        , 0.        , 0.        , 0.        , 0.        ,\n",
       "        0.        , 0.        , 0.        , 0.        , 0.        ,\n",
       "        0.        , 0.        , 0.        , 0.        , 0.18039216,\n",
       "        0.50980392, 0.71764706, 0.99215686, 0.99215686, 0.81176471,\n",
       "        0.00784314, 0.        , 0.        , 0.        , 0.        ,\n",
       "        0.        , 0.        , 0.        ],\n",
       "       [0.        , 0.        , 0.        , 0.        , 0.        ,\n",
       "        0.        , 0.        , 0.        , 0.        , 0.        ,\n",
       "        0.        , 0.        , 0.15294118, 0.58039216, 0.89803922,\n",
       "        0.99215686, 0.99215686, 0.99215686, 0.98039216, 0.71372549,\n",
       "        0.        , 0.        , 0.        , 0.        , 0.        ,\n",
       "        0.        , 0.        , 0.        ],\n",
       "       [0.        , 0.        , 0.        , 0.        , 0.        ,\n",
       "        0.        , 0.        , 0.        , 0.        , 0.        ,\n",
       "        0.09411765, 0.44705882, 0.86666667, 0.99215686, 0.99215686,\n",
       "        0.99215686, 0.99215686, 0.78823529, 0.30588235, 0.        ,\n",
       "        0.        , 0.        , 0.        , 0.        , 0.        ,\n",
       "        0.        , 0.        , 0.        ],\n",
       "       [0.        , 0.        , 0.        , 0.        , 0.        ,\n",
       "        0.        , 0.        , 0.        , 0.09019608, 0.25882353,\n",
       "        0.83529412, 0.99215686, 0.99215686, 0.99215686, 0.99215686,\n",
       "        0.77647059, 0.31764706, 0.00784314, 0.        , 0.        ,\n",
       "        0.        , 0.        , 0.        , 0.        , 0.        ,\n",
       "        0.        , 0.        , 0.        ],\n",
       "       [0.        , 0.        , 0.        , 0.        , 0.        ,\n",
       "        0.        , 0.07058824, 0.67058824, 0.85882353, 0.99215686,\n",
       "        0.99215686, 0.99215686, 0.99215686, 0.76470588, 0.31372549,\n",
       "        0.03529412, 0.        , 0.        , 0.        , 0.        ,\n",
       "        0.        , 0.        , 0.        , 0.        , 0.        ,\n",
       "        0.        , 0.        , 0.        ],\n",
       "       [0.        , 0.        , 0.        , 0.        , 0.21568627,\n",
       "        0.6745098 , 0.88627451, 0.99215686, 0.99215686, 0.99215686,\n",
       "        0.99215686, 0.95686275, 0.52156863, 0.04313725, 0.        ,\n",
       "        0.        , 0.        , 0.        , 0.        , 0.        ,\n",
       "        0.        , 0.        , 0.        , 0.        , 0.        ,\n",
       "        0.        , 0.        , 0.        ],\n",
       "       [0.        , 0.        , 0.        , 0.        , 0.53333333,\n",
       "        0.99215686, 0.99215686, 0.99215686, 0.83137255, 0.52941176,\n",
       "        0.51764706, 0.0627451 , 0.        , 0.        , 0.        ,\n",
       "        0.        , 0.        , 0.        , 0.        , 0.        ,\n",
       "        0.        , 0.        , 0.        , 0.        , 0.        ,\n",
       "        0.        , 0.        , 0.        ],\n",
       "       [0.        , 0.        , 0.        , 0.        , 0.        ,\n",
       "        0.        , 0.        , 0.        , 0.        , 0.        ,\n",
       "        0.        , 0.        , 0.        , 0.        , 0.        ,\n",
       "        0.        , 0.        , 0.        , 0.        , 0.        ,\n",
       "        0.        , 0.        , 0.        , 0.        , 0.        ,\n",
       "        0.        , 0.        , 0.        ],\n",
       "       [0.        , 0.        , 0.        , 0.        , 0.        ,\n",
       "        0.        , 0.        , 0.        , 0.        , 0.        ,\n",
       "        0.        , 0.        , 0.        , 0.        , 0.        ,\n",
       "        0.        , 0.        , 0.        , 0.        , 0.        ,\n",
       "        0.        , 0.        , 0.        , 0.        , 0.        ,\n",
       "        0.        , 0.        , 0.        ],\n",
       "       [0.        , 0.        , 0.        , 0.        , 0.        ,\n",
       "        0.        , 0.        , 0.        , 0.        , 0.        ,\n",
       "        0.        , 0.        , 0.        , 0.        , 0.        ,\n",
       "        0.        , 0.        , 0.        , 0.        , 0.        ,\n",
       "        0.        , 0.        , 0.        , 0.        , 0.        ,\n",
       "        0.        , 0.        , 0.        ]])"
      ]
     },
     "execution_count": 9,
     "metadata": {},
     "output_type": "execute_result"
    }
   ],
   "source": [
    "X_trainscaled[0]"
   ]
  },
  {
   "cell_type": "markdown",
   "id": "7df5a3aa",
   "metadata": {
    "papermill": {
     "duration": 0.013675,
     "end_time": "2024-01-03T06:33:48.222284",
     "exception": false,
     "start_time": "2024-01-03T06:33:48.208609",
     "status": "completed"
    },
    "tags": []
   },
   "source": [
    "1.using ANN"
   ]
  },
  {
   "cell_type": "code",
   "execution_count": 10,
   "id": "c036d856",
   "metadata": {
    "execution": {
     "iopub.execute_input": "2024-01-03T06:33:48.251441Z",
     "iopub.status.busy": "2024-01-03T06:33:48.251024Z",
     "iopub.status.idle": "2024-01-03T06:36:11.842191Z",
     "shell.execute_reply": "2024-01-03T06:36:11.841014Z"
    },
    "papermill": {
     "duration": 143.820598,
     "end_time": "2024-01-03T06:36:12.056747",
     "exception": false,
     "start_time": "2024-01-03T06:33:48.236149",
     "status": "completed"
    },
    "tags": []
   },
   "outputs": [
    {
     "name": "stdout",
     "output_type": "stream",
     "text": [
      "Epoch 1/5\n",
      "1875/1875 [==============================] - 25s 13ms/step - loss: 0.1776 - accuracy: 0.9447\n",
      "Epoch 2/5\n",
      "1875/1875 [==============================] - 23s 12ms/step - loss: 0.0791 - accuracy: 0.9761\n",
      "Epoch 3/5\n",
      "1875/1875 [==============================] - 24s 13ms/step - loss: 0.0546 - accuracy: 0.9830\n",
      "Epoch 4/5\n",
      "1875/1875 [==============================] - 24s 13ms/step - loss: 0.0422 - accuracy: 0.9869\n",
      "Epoch 5/5\n",
      "1875/1875 [==============================] - 23s 12ms/step - loss: 0.0345 - accuracy: 0.9891\n"
     ]
    },
    {
     "data": {
      "text/plain": [
       "<keras.src.callbacks.History at 0x7bea18d40820>"
      ]
     },
     "execution_count": 10,
     "metadata": {},
     "output_type": "execute_result"
    }
   ],
   "source": [
    "model1=keras.Sequential([\n",
    "    keras.layers.Flatten(input_shape=(28,28)),\n",
    "    keras.layers.Dense(1000,activation=\"relu\"),\n",
    "    keras.layers.Dense(500,activation=\"relu\"),\n",
    "    keras.layers.Dense(10,activation=\"sigmoid\")\n",
    "])\n",
    "model1.compile(optimizer=\"adam\",\n",
    "               loss=\"sparse_categorical_crossentropy\",\n",
    "               metrics=[\"accuracy\"]\n",
    ")\n",
    "model1.fit(X_trainscaled,y_train,epochs=5)"
   ]
  },
  {
   "cell_type": "code",
   "execution_count": 11,
   "id": "6f39ee7a",
   "metadata": {
    "execution": {
     "iopub.execute_input": "2024-01-03T06:36:12.506963Z",
     "iopub.status.busy": "2024-01-03T06:36:12.505052Z",
     "iopub.status.idle": "2024-01-03T06:36:14.399563Z",
     "shell.execute_reply": "2024-01-03T06:36:14.398460Z"
    },
    "papermill": {
     "duration": 2.132662,
     "end_time": "2024-01-03T06:36:14.402623",
     "exception": false,
     "start_time": "2024-01-03T06:36:12.269961",
     "status": "completed"
    },
    "tags": []
   },
   "outputs": [
    {
     "name": "stdout",
     "output_type": "stream",
     "text": [
      "313/313 [==============================] - 2s 4ms/step - loss: 0.0672 - accuracy: 0.9812\n"
     ]
    },
    {
     "data": {
      "text/plain": [
       "[0.06715229153633118, 0.9811999797821045]"
      ]
     },
     "execution_count": 11,
     "metadata": {},
     "output_type": "execute_result"
    }
   ],
   "source": [
    "model1.evaluate(X_testscaled,y_test)"
   ]
  },
  {
   "cell_type": "markdown",
   "id": "fd771028",
   "metadata": {
    "papermill": {
     "duration": 0.215646,
     "end_time": "2024-01-03T06:36:14.839771",
     "exception": false,
     "start_time": "2024-01-03T06:36:14.624125",
     "status": "completed"
    },
    "tags": []
   },
   "source": [
    "We get 98 accuracy on test data using ANN"
   ]
  },
  {
   "cell_type": "code",
   "execution_count": 12,
   "id": "3aeb8bca",
   "metadata": {
    "execution": {
     "iopub.execute_input": "2024-01-03T06:36:15.272179Z",
     "iopub.status.busy": "2024-01-03T06:36:15.271732Z",
     "iopub.status.idle": "2024-01-03T06:36:17.934410Z",
     "shell.execute_reply": "2024-01-03T06:36:17.932731Z"
    },
    "papermill": {
     "duration": 2.882168,
     "end_time": "2024-01-03T06:36:17.937145",
     "exception": false,
     "start_time": "2024-01-03T06:36:15.054977",
     "status": "completed"
    },
    "tags": []
   },
   "outputs": [
    {
     "name": "stdout",
     "output_type": "stream",
     "text": [
      "313/313 [==============================] - 1s 4ms/step\n",
      "Classification Report \n",
      "               precision    recall  f1-score   support\n",
      "\n",
      "           0       0.99      0.99      0.99       980\n",
      "           1       0.99      0.99      0.99      1135\n",
      "           2       0.98      0.97      0.98      1032\n",
      "           3       0.97      0.99      0.98      1010\n",
      "           4       0.99      0.97      0.98       982\n",
      "           5       0.99      0.98      0.98       892\n",
      "           6       0.98      0.99      0.98       958\n",
      "           7       0.97      0.98      0.98      1028\n",
      "           8       0.98      0.97      0.98       974\n",
      "           9       0.98      0.97      0.97      1009\n",
      "\n",
      "    accuracy                           0.98     10000\n",
      "   macro avg       0.98      0.98      0.98     10000\n",
      "weighted avg       0.98      0.98      0.98     10000\n",
      "\n"
     ]
    }
   ],
   "source": [
    "from sklearn.metrics import confusion_matrix,classification_report\n",
    "y_pred=model1.predict(X_testscaled)\n",
    "ypred_classes=[np.argmax(element) for element in y_pred]\n",
    "print(\"Classification Report \\n\",classification_report(y_test,ypred_classes))"
   ]
  },
  {
   "cell_type": "markdown",
   "id": "ede8e246",
   "metadata": {
    "papermill": {
     "duration": 0.222587,
     "end_time": "2024-01-03T06:36:18.380219",
     "exception": false,
     "start_time": "2024-01-03T06:36:18.157632",
     "status": "completed"
    },
    "tags": []
   },
   "source": [
    "for every class we get a good f1score"
   ]
  },
  {
   "cell_type": "markdown",
   "id": "67a5a056",
   "metadata": {
    "papermill": {
     "duration": 0.225092,
     "end_time": "2024-01-03T06:36:18.830589",
     "exception": false,
     "start_time": "2024-01-03T06:36:18.605497",
     "status": "completed"
    },
    "tags": []
   },
   "source": [
    "2. Using CNN"
   ]
  },
  {
   "cell_type": "markdown",
   "id": "8f55afee",
   "metadata": {
    "papermill": {
     "duration": 0.217892,
     "end_time": "2024-01-03T06:36:19.264632",
     "exception": false,
     "start_time": "2024-01-03T06:36:19.046740",
     "status": "completed"
    },
    "tags": []
   },
   "source": [
    "first we need to convert the images to 3D where 3 dimension represent color channel i will use 1 for gray "
   ]
  },
  {
   "cell_type": "code",
   "execution_count": 13,
   "id": "3743c5a2",
   "metadata": {
    "execution": {
     "iopub.execute_input": "2024-01-03T06:36:19.718647Z",
     "iopub.status.busy": "2024-01-03T06:36:19.717669Z",
     "iopub.status.idle": "2024-01-03T06:36:19.725630Z",
     "shell.execute_reply": "2024-01-03T06:36:19.724389Z"
    },
    "papermill": {
     "duration": 0.244714,
     "end_time": "2024-01-03T06:36:19.728178",
     "exception": false,
     "start_time": "2024-01-03T06:36:19.483464",
     "status": "completed"
    },
    "tags": []
   },
   "outputs": [
    {
     "data": {
      "text/plain": [
       "(60000, 28, 28)"
      ]
     },
     "execution_count": 13,
     "metadata": {},
     "output_type": "execute_result"
    }
   ],
   "source": [
    "X_trainscaled.shape"
   ]
  },
  {
   "cell_type": "code",
   "execution_count": 14,
   "id": "00d0d963",
   "metadata": {
    "execution": {
     "iopub.execute_input": "2024-01-03T06:36:20.256370Z",
     "iopub.status.busy": "2024-01-03T06:36:20.255247Z",
     "iopub.status.idle": "2024-01-03T06:36:20.261243Z",
     "shell.execute_reply": "2024-01-03T06:36:20.260153Z"
    },
    "papermill": {
     "duration": 0.308946,
     "end_time": "2024-01-03T06:36:20.263688",
     "exception": false,
     "start_time": "2024-01-03T06:36:19.954742",
     "status": "completed"
    },
    "tags": []
   },
   "outputs": [],
   "source": [
    "X_traingray=X_trainscaled.reshape(60000,28,28,1)"
   ]
  },
  {
   "cell_type": "code",
   "execution_count": 15,
   "id": "f94be834",
   "metadata": {
    "execution": {
     "iopub.execute_input": "2024-01-03T06:36:20.710720Z",
     "iopub.status.busy": "2024-01-03T06:36:20.710000Z",
     "iopub.status.idle": "2024-01-03T06:36:20.716018Z",
     "shell.execute_reply": "2024-01-03T06:36:20.714972Z"
    },
    "papermill": {
     "duration": 0.23238,
     "end_time": "2024-01-03T06:36:20.718425",
     "exception": false,
     "start_time": "2024-01-03T06:36:20.486045",
     "status": "completed"
    },
    "tags": []
   },
   "outputs": [
    {
     "data": {
      "text/plain": [
       "(10000, 28, 28)"
      ]
     },
     "execution_count": 15,
     "metadata": {},
     "output_type": "execute_result"
    }
   ],
   "source": [
    "X_testscaled.shape"
   ]
  },
  {
   "cell_type": "code",
   "execution_count": 16,
   "id": "17334dc6",
   "metadata": {
    "execution": {
     "iopub.execute_input": "2024-01-03T06:36:21.164782Z",
     "iopub.status.busy": "2024-01-03T06:36:21.164033Z",
     "iopub.status.idle": "2024-01-03T06:36:21.168585Z",
     "shell.execute_reply": "2024-01-03T06:36:21.167781Z"
    },
    "papermill": {
     "duration": 0.231291,
     "end_time": "2024-01-03T06:36:21.171489",
     "exception": false,
     "start_time": "2024-01-03T06:36:20.940198",
     "status": "completed"
    },
    "tags": []
   },
   "outputs": [],
   "source": [
    "X_testgray=X_testscaled.reshape(10000,28,28,1)"
   ]
  },
  {
   "cell_type": "code",
   "execution_count": 17,
   "id": "e1005f89",
   "metadata": {
    "execution": {
     "iopub.execute_input": "2024-01-03T06:36:21.613816Z",
     "iopub.status.busy": "2024-01-03T06:36:21.612963Z",
     "iopub.status.idle": "2024-01-03T06:36:21.619456Z",
     "shell.execute_reply": "2024-01-03T06:36:21.618222Z"
    },
    "papermill": {
     "duration": 0.230623,
     "end_time": "2024-01-03T06:36:21.621907",
     "exception": false,
     "start_time": "2024-01-03T06:36:21.391284",
     "status": "completed"
    },
    "tags": []
   },
   "outputs": [
    {
     "data": {
      "text/plain": [
       "(60000, 28, 28, 1)"
      ]
     },
     "execution_count": 17,
     "metadata": {},
     "output_type": "execute_result"
    }
   ],
   "source": [
    "X_traingray.shape"
   ]
  },
  {
   "cell_type": "code",
   "execution_count": 18,
   "id": "6da9e2b8",
   "metadata": {
    "execution": {
     "iopub.execute_input": "2024-01-03T06:36:22.058501Z",
     "iopub.status.busy": "2024-01-03T06:36:22.058045Z",
     "iopub.status.idle": "2024-01-03T06:36:22.064600Z",
     "shell.execute_reply": "2024-01-03T06:36:22.063792Z"
    },
    "papermill": {
     "duration": 0.227183,
     "end_time": "2024-01-03T06:36:22.067310",
     "exception": false,
     "start_time": "2024-01-03T06:36:21.840127",
     "status": "completed"
    },
    "tags": []
   },
   "outputs": [
    {
     "data": {
      "text/plain": [
       "(10000, 28, 28, 1)"
      ]
     },
     "execution_count": 18,
     "metadata": {},
     "output_type": "execute_result"
    }
   ],
   "source": [
    "X_testgray.shape"
   ]
  },
  {
   "cell_type": "code",
   "execution_count": 19,
   "id": "9b4e3060",
   "metadata": {
    "execution": {
     "iopub.execute_input": "2024-01-03T06:36:22.531280Z",
     "iopub.status.busy": "2024-01-03T06:36:22.529645Z",
     "iopub.status.idle": "2024-01-03T06:40:15.736748Z",
     "shell.execute_reply": "2024-01-03T06:40:15.735544Z"
    },
    "papermill": {
     "duration": 233.453185,
     "end_time": "2024-01-03T06:40:15.739271",
     "exception": false,
     "start_time": "2024-01-03T06:36:22.286086",
     "status": "completed"
    },
    "tags": []
   },
   "outputs": [
    {
     "name": "stdout",
     "output_type": "stream",
     "text": [
      "Epoch 1/5\n",
      "1875/1875 [==============================] - 47s 24ms/step - loss: 0.1222 - accuracy: 0.9616\n",
      "Epoch 2/5\n",
      "1875/1875 [==============================] - 46s 24ms/step - loss: 0.0441 - accuracy: 0.9860\n",
      "Epoch 3/5\n",
      "1875/1875 [==============================] - 46s 25ms/step - loss: 0.0302 - accuracy: 0.9906\n",
      "Epoch 4/5\n",
      "1875/1875 [==============================] - 47s 25ms/step - loss: 0.0225 - accuracy: 0.9928\n",
      "Epoch 5/5\n",
      "1875/1875 [==============================] - 47s 25ms/step - loss: 0.0200 - accuracy: 0.9940\n"
     ]
    },
    {
     "data": {
      "text/plain": [
       "<keras.src.callbacks.History at 0x7be9b74207c0>"
      ]
     },
     "execution_count": 19,
     "metadata": {},
     "output_type": "execute_result"
    }
   ],
   "source": [
    "model2=keras.Sequential([\n",
    "    keras.layers.Conv2D(filters=32,kernel_size=(3,3),padding=\"same\",input_shape=(28,28,1),activation=\"relu\"),\n",
    "    keras.layers.MaxPooling2D((2,2)),\n",
    "    \n",
    "    keras.layers.Conv2D(filters=20,kernel_size=(3,3),padding=\"same\",activation=\"relu\"),\n",
    "    keras.layers.MaxPooling2D((2,2)),\n",
    "    \n",
    "    keras.layers.Flatten(),\n",
    "    keras.layers.Dense(1000,activation=\"relu\"),\n",
    "    keras.layers.Dense(500,activation=\"relu\"),\n",
    "    keras.layers.Dense(10,activation=\"sigmoid\")\n",
    "    \n",
    "])\n",
    "model2.compile(optimizer=\"adam\",\n",
    "               loss=\"sparse_categorical_crossentropy\",\n",
    "               metrics=[\"accuracy\"]\n",
    ")\n",
    "model2.fit(X_traingray,y_train,epochs=5)"
   ]
  },
  {
   "cell_type": "code",
   "execution_count": 20,
   "id": "a9395f52",
   "metadata": {
    "execution": {
     "iopub.execute_input": "2024-01-03T06:40:16.913737Z",
     "iopub.status.busy": "2024-01-03T06:40:16.912695Z",
     "iopub.status.idle": "2024-01-03T06:40:19.714080Z",
     "shell.execute_reply": "2024-01-03T06:40:19.712910Z"
    },
    "papermill": {
     "duration": 3.355281,
     "end_time": "2024-01-03T06:40:19.716571",
     "exception": false,
     "start_time": "2024-01-03T06:40:16.361290",
     "status": "completed"
    },
    "tags": []
   },
   "outputs": [
    {
     "name": "stdout",
     "output_type": "stream",
     "text": [
      "313/313 [==============================] - 3s 8ms/step - loss: 0.0407 - accuracy: 0.9896\n"
     ]
    },
    {
     "data": {
      "text/plain": [
       "[0.04068243131041527, 0.9896000027656555]"
      ]
     },
     "execution_count": 20,
     "metadata": {},
     "output_type": "execute_result"
    }
   ],
   "source": [
    "model2.evaluate(X_testgray,y_test)"
   ]
  },
  {
   "cell_type": "markdown",
   "id": "603f7d0b",
   "metadata": {
    "papermill": {
     "duration": 0.552514,
     "end_time": "2024-01-03T06:40:20.819625",
     "exception": false,
     "start_time": "2024-01-03T06:40:20.267111",
     "status": "completed"
    },
    "tags": []
   },
   "source": [
    "here we get slightly better accuracy on test dataset than ANN "
   ]
  },
  {
   "cell_type": "code",
   "execution_count": 21,
   "id": "7567318b",
   "metadata": {
    "execution": {
     "iopub.execute_input": "2024-01-03T06:40:21.997379Z",
     "iopub.status.busy": "2024-01-03T06:40:21.996310Z",
     "iopub.status.idle": "2024-01-03T06:40:27.387567Z",
     "shell.execute_reply": "2024-01-03T06:40:27.385873Z"
    },
    "papermill": {
     "duration": 6.025403,
     "end_time": "2024-01-03T06:40:27.390420",
     "exception": false,
     "start_time": "2024-01-03T06:40:21.365017",
     "status": "completed"
    },
    "tags": []
   },
   "outputs": [
    {
     "name": "stdout",
     "output_type": "stream",
     "text": [
      "313/313 [==============================] - 3s 8ms/step\n",
      "Classification report \n",
      "               precision    recall  f1-score   support\n",
      "\n",
      "           0       0.98      1.00      0.99       980\n",
      "           1       0.99      0.99      0.99      1135\n",
      "           2       1.00      0.99      0.99      1032\n",
      "           3       1.00      0.99      0.99      1010\n",
      "           4       0.99      0.99      0.99       982\n",
      "           5       0.98      0.99      0.99       892\n",
      "           6       0.99      0.98      0.99       958\n",
      "           7       0.99      0.99      0.99      1028\n",
      "           8       0.98      1.00      0.99       974\n",
      "           9       0.99      0.98      0.98      1009\n",
      "\n",
      "    accuracy                           0.99     10000\n",
      "   macro avg       0.99      0.99      0.99     10000\n",
      "weighted avg       0.99      0.99      0.99     10000\n",
      "\n"
     ]
    }
   ],
   "source": [
    "from sklearn.metrics import confusion_matrix,classification_report\n",
    "y_pred=model2.predict(X_testgray)\n",
    "ypred_classes=[np.argmax(element) for element in y_pred]\n",
    "print(\"Classification report \\n\",classification_report(y_test,ypred_classes))"
   ]
  },
  {
   "cell_type": "markdown",
   "id": "6148e673",
   "metadata": {
    "papermill": {
     "duration": 0.55165,
     "end_time": "2024-01-03T06:40:28.503883",
     "exception": false,
     "start_time": "2024-01-03T06:40:27.952233",
     "status": "completed"
    },
    "tags": []
   },
   "source": [
    "we can clearly see CNN is performing better"
   ]
  },
  {
   "cell_type": "code",
   "execution_count": 22,
   "id": "d7a39b80",
   "metadata": {
    "execution": {
     "iopub.execute_input": "2024-01-03T06:40:29.697850Z",
     "iopub.status.busy": "2024-01-03T06:40:29.697088Z",
     "iopub.status.idle": "2024-01-03T06:40:29.703842Z",
     "shell.execute_reply": "2024-01-03T06:40:29.702755Z"
    },
    "papermill": {
     "duration": 0.642376,
     "end_time": "2024-01-03T06:40:29.706455",
     "exception": false,
     "start_time": "2024-01-03T06:40:29.064079",
     "status": "completed"
    },
    "tags": []
   },
   "outputs": [
    {
     "data": {
      "text/plain": [
       "array([7, 2, 1, 0, 4, 1, 4, 9, 5, 9, 0, 6, 9, 0, 1], dtype=uint8)"
      ]
     },
     "execution_count": 22,
     "metadata": {},
     "output_type": "execute_result"
    }
   ],
   "source": [
    "y_test[:15]"
   ]
  },
  {
   "cell_type": "code",
   "execution_count": 23,
   "id": "55d4b7c4",
   "metadata": {
    "execution": {
     "iopub.execute_input": "2024-01-03T06:40:30.824546Z",
     "iopub.status.busy": "2024-01-03T06:40:30.823810Z",
     "iopub.status.idle": "2024-01-03T06:40:30.831212Z",
     "shell.execute_reply": "2024-01-03T06:40:30.830293Z"
    },
    "papermill": {
     "duration": 0.566877,
     "end_time": "2024-01-03T06:40:30.833347",
     "exception": false,
     "start_time": "2024-01-03T06:40:30.266470",
     "status": "completed"
    },
    "tags": []
   },
   "outputs": [
    {
     "data": {
      "text/plain": [
       "[7, 2, 1, 0, 4, 1, 4, 9, 5, 9, 0, 6, 9, 0, 1]"
      ]
     },
     "execution_count": 23,
     "metadata": {},
     "output_type": "execute_result"
    }
   ],
   "source": [
    "ypred_classes[:15]"
   ]
  },
  {
   "cell_type": "code",
   "execution_count": 24,
   "id": "c29f4dc5",
   "metadata": {
    "execution": {
     "iopub.execute_input": "2024-01-03T06:40:31.942381Z",
     "iopub.status.busy": "2024-01-03T06:40:31.941976Z",
     "iopub.status.idle": "2024-01-03T06:40:32.243504Z",
     "shell.execute_reply": "2024-01-03T06:40:32.242575Z"
    },
    "papermill": {
     "duration": 0.857307,
     "end_time": "2024-01-03T06:40:32.245759",
     "exception": false,
     "start_time": "2024-01-03T06:40:31.388452",
     "status": "completed"
    },
    "tags": []
   },
   "outputs": [
    {
     "data": {
      "text/plain": [
       "<matplotlib.image.AxesImage at 0x7bea18d216f0>"
      ]
     },
     "execution_count": 24,
     "metadata": {},
     "output_type": "execute_result"
    },
    {
     "data": {
      "image/png": "[encoded data removed]",
      "text/plain": [
       "<Figure size 640x480 with 1 Axes>"
      ]
     },
     "metadata": {},
     "output_type": "display_data"
    }
   ],
   "source": [
    "plt.imshow(X_traingray[0])"
   ]
  },
  {
   "cell_type": "code",
   "execution_count": 25,
   "id": "11b0763c",
   "metadata": {
    "execution": {
     "iopub.execute_input": "2024-01-03T06:40:33.452634Z",
     "iopub.status.busy": "2024-01-03T06:40:33.451353Z",
     "iopub.status.idle": "2024-01-03T06:40:33.543054Z",
     "shell.execute_reply": "2024-01-03T06:40:33.541443Z"
    },
    "papermill": {
     "duration": 0.655698,
     "end_time": "2024-01-03T06:40:33.545968",
     "exception": false,
     "start_time": "2024-01-03T06:40:32.890270",
     "status": "completed"
    },
    "tags": []
   },
   "outputs": [
    {
     "name": "stdout",
     "output_type": "stream",
     "text": [
      "1/1 [==============================] - 0s 24ms/step\n"
     ]
    },
    {
     "data": {
      "text/plain": [
       "5"
      ]
     },
     "execution_count": 25,
     "metadata": {},
     "output_type": "execute_result"
    }
   ],
   "source": [
    "np.argmax(model2.predict(np.array([X_traingray[0]])))"
   ]
  },
  {
   "cell_type": "markdown",
   "id": "0253eaa5",
   "metadata": {
    "papermill": {
     "duration": 0.554774,
     "end_time": "2024-01-03T06:40:34.662841",
     "exception": false,
     "start_time": "2024-01-03T06:40:34.108067",
     "status": "completed"
    },
    "tags": []
   },
   "source": [
    "we get correct prediction"
   ]
  }
 ],
 "metadata": {
  "kaggle": {
   "accelerator": "none",
   "dataSources": [],
   "dockerImageVersionId": 30626,
   "isGpuEnabled": false,
   "isInternetEnabled": true,
   "language": "python",
   "sourceType": "notebook"
  },
  "kernelspec": {
   "display_name": "Python 3",
   "language": "python",
   "name": "python3"
  },
  "language_info": {
   "codemirror_mode": {
    "name": "ipython",
    "version": 3
   },
   "file_extension": ".py",
   "mimetype": "text/x-python",
   "name": "python",
   "nbconvert_exporter": "python",
   "pygments_lexer": "ipython3",
   "version": "3.10.12"
  },
  "papermill": {
   "default_parameters": {},
   "duration": 432.968572,
   "end_time": "2024-01-03T06:40:37.819641",
   "environment_variables": {},
   "exception": null,
   "input_path": "__notebook__.ipynb",
   "output_path": "__notebook__.ipynb",
   "parameters": {},
   "start_time": "2024-01-03T06:33:24.851069",
   "version": "2.4.0"
  }
 },
 "nbformat": 4,
 "nbformat_minor": 5
}
